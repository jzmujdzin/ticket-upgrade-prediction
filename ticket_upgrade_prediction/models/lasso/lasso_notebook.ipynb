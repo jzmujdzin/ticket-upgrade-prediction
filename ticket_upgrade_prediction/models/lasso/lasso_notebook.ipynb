{
 "cells": [
  {
   "cell_type": "code",
   "execution_count": 1,
   "metadata": {
    "collapsed": true,
    "pycharm": {
     "name": "#%%\n"
    }
   },
   "outputs": [],
   "source": [
    "from sklearn.linear_model import LogisticRegression\n",
    "from ticket_upgrade_prediction.pipeline import Pipeline\n",
    "from sklearn.model_selection import train_test_split"
   ]
  },
  {
   "cell_type": "code",
   "execution_count": 2,
   "outputs": [
    {
     "name": "stderr",
     "output_type": "stream",
     "text": [
      "2022-09-27 15:45:18.123 | INFO     | ticket_upgrade_prediction.pipeline:read_all_files:34 - loaded booking data\n",
      "2022-09-27 15:45:22.836 | INFO     | ticket_upgrade_prediction.pipeline:read_all_files:36 - loaded ticket data\n",
      "2022-09-27 15:45:41.489 | INFO     | ticket_upgrade_prediction.pipeline:read_all_files:38 - loaded flight coupon data\n",
      "2022-09-27 15:45:41.505 | INFO     | ticket_upgrade_prediction.pipeline:merge_files:49 - 2022-09-27 15:45:41.505446 merging datasets\n",
      "2022-09-27 15:46:57.174 | INFO     | ticket_upgrade_prediction.pipeline:clean_df:289 - 2022-09-27 15:46:57.173539 cleaning df ...\n",
      "2022-09-27 15:47:31.698 | INFO     | ticket_upgrade_prediction.pipeline:convert_datetime_columns_to_pandas_format:157 - converted datetime columns to pandas format\n",
      "2022-09-27 15:47:36.038 | INFO     | ticket_upgrade_prediction.pipeline:filter_wrong_ticket_prices:140 - filtered wrong ticket prices\n",
      "2022-09-27 15:47:39.452 | INFO     | ticket_upgrade_prediction.pipeline:filter_wrong_booking_window:161 - filtered wrong booking windows\n",
      "2022-09-27 15:47:42.781 | INFO     | ticket_upgrade_prediction.pipeline:filter_nonpositive_flight_distance:165 - filtered nonpositive flight distance\n",
      "2022-09-27 15:48:38.458 | INFO     | ticket_upgrade_prediction.pipeline:get_sale_to_flight_time:174 - got sale to flight time col\n",
      "2022-09-27 15:49:31.493 | INFO     | ticket_upgrade_prediction.pipeline:get_flight_len:193 - got flight len col\n",
      "2022-09-27 15:49:41.511 | INFO     | ticket_upgrade_prediction.pipeline:map_departure_time_to_hours:199 - mapped departure time to hours\n",
      "2022-09-27 15:49:45.275 | INFO     | ticket_upgrade_prediction.pipeline:check_for_add_upgrade:215 - checked for add upgrade\n",
      "2022-09-27 15:49:45.370 | INFO     | ticket_upgrade_prediction.pipeline:check_for_same_carrier:223 - checked for same carrier\n",
      "2022-09-27 15:49:46.158 | INFO     | ticket_upgrade_prediction.pipeline:check_for_sus_aircraft:229 - checked for sus aircraft\n",
      "2022-09-27 15:49:48.878 | INFO     | ticket_upgrade_prediction.pipeline:check_for_sus_payment:240 - checked for sus payment\n",
      "2022-09-27 15:49:54.529 | INFO     | ticket_upgrade_prediction.pipeline:get_intinerary_len:246 - got itinerary len col\n",
      "2022-09-27 15:49:55.189 | INFO     | ticket_upgrade_prediction.pipeline:check_for_sus_currency:252 - checked for sus currency\n",
      "2022-09-27 15:49:56.879 | INFO     | ticket_upgrade_prediction.pipeline:map_genders:262 - mapped genders\n",
      "2022-09-27 15:49:58.507 | INFO     | ticket_upgrade_prediction.pipeline:map_corporate_contract_flg:268 - mapped corporate contract flag\n",
      "2022-09-27 15:49:59.881 | INFO     | ticket_upgrade_prediction.pipeline:map_loyal_customer:274 - mapped loyal customers\n",
      "2022-09-27 15:50:01.351 | INFO     | ticket_upgrade_prediction.pipeline:map_booking_long_houl_flag:280 - mapped booking long houl flag\n",
      "2022-09-27 15:50:02.595 | INFO     | ticket_upgrade_prediction.pipeline:map_booking_domestic_flag:286 - mapped booking domestic flag\n",
      "2022-09-27 15:50:06.384 | INFO     | ticket_upgrade_prediction.pipeline:clean_df:316 - dropped unnecessary columns. finished cleaning df\n",
      "2022-09-27 15:50:06.384 | INFO     | ticket_upgrade_prediction.pipeline:get_oh_encoding:330 - 2022-09-27 15:50:06.384865 getting OH encoding\n"
     ]
    }
   ],
   "source": [
    "df = Pipeline().df"
   ],
   "metadata": {
    "collapsed": false,
    "pycharm": {
     "name": "#%%\n"
    }
   }
  },
  {
   "cell_type": "code",
   "execution_count": 3,
   "outputs": [],
   "source": [
    "df.dropna(inplace=True)\n",
    "X_train, X_test, y_train, y_test = train_test_split(\n",
    "        df.drop(['UPGRADED_FLAG'], axis=1), df.iloc[:, 3], test_size=0.2, random_state=42\n",
    "    )\n",
    "del(df)"
   ],
   "metadata": {
    "collapsed": false,
    "pycharm": {
     "name": "#%%\n"
    }
   }
  },
  {
   "cell_type": "code",
   "execution_count": 7,
   "outputs": [
    {
     "name": "stderr",
     "output_type": "stream",
     "text": [
      "[Parallel(n_jobs=1)]: Using backend SequentialBackend with 1 concurrent workers.\n"
     ]
    },
    {
     "name": "stdout",
     "output_type": "stream",
     "text": [
      "max_iter reached after 787 seconds\n"
     ]
    },
    {
     "name": "stderr",
     "output_type": "stream",
     "text": [
      "E:\\anaconda\\lib\\site-packages\\sklearn\\linear_model\\_sag.py:350: ConvergenceWarning: The max_iter was reached which means the coef_ did not converge\n",
      "  warnings.warn(\n",
      "[Parallel(n_jobs=1)]: Done   1 out of   1 | elapsed: 13.1min remaining:    0.0s\n",
      "[Parallel(n_jobs=1)]: Done   1 out of   1 | elapsed: 13.1min finished\n"
     ]
    },
    {
     "data": {
      "text/plain": "LogisticRegression(class_weight='balanced', penalty='l1', solver='saga',\n                   verbose=2)",
      "text/html": "<style>#sk-container-id-2 {color: black;background-color: white;}#sk-container-id-2 pre{padding: 0;}#sk-container-id-2 div.sk-toggleable {background-color: white;}#sk-container-id-2 label.sk-toggleable__label {cursor: pointer;display: block;width: 100%;margin-bottom: 0;padding: 0.3em;box-sizing: border-box;text-align: center;}#sk-container-id-2 label.sk-toggleable__label-arrow:before {content: \"▸\";float: left;margin-right: 0.25em;color: #696969;}#sk-container-id-2 label.sk-toggleable__label-arrow:hover:before {color: black;}#sk-container-id-2 div.sk-estimator:hover label.sk-toggleable__label-arrow:before {color: black;}#sk-container-id-2 div.sk-toggleable__content {max-height: 0;max-width: 0;overflow: hidden;text-align: left;background-color: #f0f8ff;}#sk-container-id-2 div.sk-toggleable__content pre {margin: 0.2em;color: black;border-radius: 0.25em;background-color: #f0f8ff;}#sk-container-id-2 input.sk-toggleable__control:checked~div.sk-toggleable__content {max-height: 200px;max-width: 100%;overflow: auto;}#sk-container-id-2 input.sk-toggleable__control:checked~label.sk-toggleable__label-arrow:before {content: \"▾\";}#sk-container-id-2 div.sk-estimator input.sk-toggleable__control:checked~label.sk-toggleable__label {background-color: #d4ebff;}#sk-container-id-2 div.sk-label input.sk-toggleable__control:checked~label.sk-toggleable__label {background-color: #d4ebff;}#sk-container-id-2 input.sk-hidden--visually {border: 0;clip: rect(1px 1px 1px 1px);clip: rect(1px, 1px, 1px, 1px);height: 1px;margin: -1px;overflow: hidden;padding: 0;position: absolute;width: 1px;}#sk-container-id-2 div.sk-estimator {font-family: monospace;background-color: #f0f8ff;border: 1px dotted black;border-radius: 0.25em;box-sizing: border-box;margin-bottom: 0.5em;}#sk-container-id-2 div.sk-estimator:hover {background-color: #d4ebff;}#sk-container-id-2 div.sk-parallel-item::after {content: \"\";width: 100%;border-bottom: 1px solid gray;flex-grow: 1;}#sk-container-id-2 div.sk-label:hover label.sk-toggleable__label {background-color: #d4ebff;}#sk-container-id-2 div.sk-serial::before {content: \"\";position: absolute;border-left: 1px solid gray;box-sizing: border-box;top: 0;bottom: 0;left: 50%;z-index: 0;}#sk-container-id-2 div.sk-serial {display: flex;flex-direction: column;align-items: center;background-color: white;padding-right: 0.2em;padding-left: 0.2em;position: relative;}#sk-container-id-2 div.sk-item {position: relative;z-index: 1;}#sk-container-id-2 div.sk-parallel {display: flex;align-items: stretch;justify-content: center;background-color: white;position: relative;}#sk-container-id-2 div.sk-item::before, #sk-container-id-2 div.sk-parallel-item::before {content: \"\";position: absolute;border-left: 1px solid gray;box-sizing: border-box;top: 0;bottom: 0;left: 50%;z-index: -1;}#sk-container-id-2 div.sk-parallel-item {display: flex;flex-direction: column;z-index: 1;position: relative;background-color: white;}#sk-container-id-2 div.sk-parallel-item:first-child::after {align-self: flex-end;width: 50%;}#sk-container-id-2 div.sk-parallel-item:last-child::after {align-self: flex-start;width: 50%;}#sk-container-id-2 div.sk-parallel-item:only-child::after {width: 0;}#sk-container-id-2 div.sk-dashed-wrapped {border: 1px dashed gray;margin: 0 0.4em 0.5em 0.4em;box-sizing: border-box;padding-bottom: 0.4em;background-color: white;}#sk-container-id-2 div.sk-label label {font-family: monospace;font-weight: bold;display: inline-block;line-height: 1.2em;}#sk-container-id-2 div.sk-label-container {text-align: center;}#sk-container-id-2 div.sk-container {/* jupyter's `normalize.less` sets `[hidden] { display: none; }` but bootstrap.min.css set `[hidden] { display: none !important; }` so we also need the `!important` here to be able to override the default hidden behavior on the sphinx rendered scikit-learn.org. See: https://github.com/scikit-learn/scikit-learn/issues/21755 */display: inline-block !important;position: relative;}#sk-container-id-2 div.sk-text-repr-fallback {display: none;}</style><div id=\"sk-container-id-2\" class=\"sk-top-container\"><div class=\"sk-text-repr-fallback\"><pre>LogisticRegression(class_weight=&#x27;balanced&#x27;, penalty=&#x27;l1&#x27;, solver=&#x27;saga&#x27;,\n                   verbose=2)</pre><b>In a Jupyter environment, please rerun this cell to show the HTML representation or trust the notebook. <br />On GitHub, the HTML representation is unable to render, please try loading this page with nbviewer.org.</b></div><div class=\"sk-container\" hidden><div class=\"sk-item\"><div class=\"sk-estimator sk-toggleable\"><input class=\"sk-toggleable__control sk-hidden--visually\" id=\"sk-estimator-id-2\" type=\"checkbox\" checked><label for=\"sk-estimator-id-2\" class=\"sk-toggleable__label sk-toggleable__label-arrow\">LogisticRegression</label><div class=\"sk-toggleable__content\"><pre>LogisticRegression(class_weight=&#x27;balanced&#x27;, penalty=&#x27;l1&#x27;, solver=&#x27;saga&#x27;,\n                   verbose=2)</pre></div></div></div></div></div>"
     },
     "execution_count": 7,
     "metadata": {},
     "output_type": "execute_result"
    }
   ],
   "source": [
    "log = LogisticRegression(penalty='l1', solver='saga', class_weight='balanced', verbose=2)\n",
    "log.fit(X_train, y_train)"
   ],
   "metadata": {
    "collapsed": false,
    "pycharm": {
     "name": "#%%\n"
    }
   }
  },
  {
   "cell_type": "code",
   "execution_count": 8,
   "outputs": [],
   "source": [
    "from ticket_upgrade_prediction.evaluator import Evaluator\n",
    "import mlflow"
   ],
   "metadata": {
    "collapsed": false,
    "pycharm": {
     "name": "#%%\n"
    }
   }
  },
  {
   "cell_type": "code",
   "execution_count": 9,
   "outputs": [
    {
     "name": "stdout",
     "output_type": "stream",
     "text": [
      "Metrics(accuracy=0.8548853631217005, roc_auc=0.9251165788280645, precision=0.006200858752021413, recall=0.9575200918484501, f1=0.012321921274151668, pr_auc=0.007472113575237894)\n"
     ]
    }
   ],
   "source": [
    "#mlflow.set_tracking_uri('http://localhost:5000')\n",
    "#with mlflow.start_run():\n",
    "model = log\n",
    "evaluator = Evaluator(model=model, X=X_test, y=y_test)\n",
    "print(evaluator.get_all_metrics())\n",
    "#evaluator.get_all_metrics(to_mlflow=True)\n",
    "#    mlflow.sklearn.log_model(\n",
    "#        sk_model=model,\n",
    "#        artifact_path=\"sklearn-model\",\n",
    "#        registered_model_name='LASSO'\n",
    "#    )"
   ],
   "metadata": {
    "collapsed": false,
    "pycharm": {
     "name": "#%%\n"
    }
   }
  },
  {
   "cell_type": "code",
   "execution_count": 10,
   "outputs": [
    {
     "name": "stdout",
     "output_type": "stream",
     "text": [
      "Metrics(accuracy=0.8548853631217005, roc_auc=0.9251165788280645, precision=0.006200858752021413, recall=0.9575200918484501, f1=0.012321921274151668, pr_auc=0.007472113575237894)\n"
     ]
    },
    {
     "name": "stderr",
     "output_type": "stream",
     "text": [
      "E:\\anaconda\\lib\\site-packages\\_distutils_hack\\__init__.py:33: UserWarning: Setuptools is replacing distutils.\n",
      "  warnings.warn(\"Setuptools is replacing distutils.\")\n",
      "Successfully registered model 'LASSO'.\n",
      "2022/09/27 17:58:35 INFO mlflow.tracking._model_registry.client: Waiting up to 300 seconds for model version to finish creation.                     Model name: LASSO, version 1\n",
      "Created version '1' of model 'LASSO'.\n"
     ]
    }
   ],
   "source": [
    "mlflow.set_tracking_uri('http://localhost:5000')\n",
    "with mlflow.start_run():\n",
    "    model = log\n",
    "    evaluator = Evaluator(model=model, X=X_test, y=y_test)\n",
    "    print(evaluator.get_all_metrics())\n",
    "    evaluator.get_all_metrics(to_mlflow=True)\n",
    "    mlflow.sklearn.log_model(\n",
    "        sk_model=model,\n",
    "        artifact_path=\"sklearn-model\",\n",
    "        registered_model_name='LASSO'\n",
    "    )"
   ],
   "metadata": {
    "collapsed": false,
    "pycharm": {
     "name": "#%%\n"
    }
   }
  },
  {
   "cell_type": "code",
   "execution_count": 14,
   "outputs": [
    {
     "name": "stdout",
     "output_type": "stream",
     "text": [
      "[[-5.11801623e-02 -2.43729307e-01  4.06677058e-03 -5.87906768e-04\n",
      "  -1.87477241e-02 -1.85589454e-03 -4.27163992e-03  1.19812103e-02\n",
      "   1.23521315e-03  4.90653745e-03 -9.57357703e-06 -1.58225786e-01\n",
      "  -8.31915624e-02 -2.04786508e-01  6.50258877e-04 -2.70488207e-02\n",
      "   7.04131408e-03  1.53824818e-03 -1.14744594e-01  0.00000000e+00\n",
      "   6.78543145e-03 -3.35964784e-02 -1.04163559e-06 -3.34814430e-02\n",
      "   8.43426106e-03 -3.05977128e-03 -3.27243752e-04 -6.99912892e-03\n",
      "  -1.43193460e-02  3.12368553e-03 -6.99177165e-03 -5.22537293e-04\n",
      "  -2.74059817e-04 -1.57730440e-03  2.64664395e-04 -7.56835861e-07\n",
      "  -4.49349874e-04 -2.77899803e-03 -3.77698175e-05 -2.28132100e-02]]\n"
     ]
    }
   ],
   "source": [
    "import pickle\n",
    "with open(r\"E:\\downloads\\model.pkl\",\"rb\") as file_handle:\n",
    "    retrieved_data = pickle.load(file_handle)\n",
    "    print(retrieved_data.coef_)"
   ],
   "metadata": {
    "collapsed": false,
    "pycharm": {
     "name": "#%%\n"
    }
   }
  }
 ],
 "metadata": {
  "kernelspec": {
   "display_name": "Python 3",
   "language": "python",
   "name": "python3"
  },
  "language_info": {
   "codemirror_mode": {
    "name": "ipython",
    "version": 2
   },
   "file_extension": ".py",
   "mimetype": "text/x-python",
   "name": "python",
   "nbconvert_exporter": "python",
   "pygments_lexer": "ipython2",
   "version": "2.7.6"
  }
 },
 "nbformat": 4,
 "nbformat_minor": 0
}