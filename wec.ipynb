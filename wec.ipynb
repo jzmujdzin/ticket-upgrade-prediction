{
 "cells": [
  {
   "cell_type": "code",
   "execution_count": null,
   "metadata": {},
   "outputs": [],
   "source": [
    "import pandas as pd \n",
    "import numpy as np\n",
    "import datetime\n",
    "from pathlib import Path\n",
    "import os\n",
    "\n",
    "pd.set_option('display.max_columns', 500)\n"
   ]
  },
  {
   "cell_type": "code",
   "execution_count": null,
   "metadata": {},
   "outputs": [],
   "source": [
    "data_path = Path(os.getcwd()) / 'data' / 'WEC2022_Data'"
   ]
  },
  {
   "cell_type": "code",
   "execution_count": null,
   "metadata": {},
   "outputs": [],
   "source": [
    "data_path"
   ]
  },
  {
   "cell_type": "code",
   "execution_count": null,
   "metadata": {},
   "outputs": [],
   "source": [
    "stay_lenght_map = {-9999: None}\n",
    "df['STAY_LENGTH_D'] = df['STAY_LENGTH_D'].replace(stay_lenght_map)\n",
    "df['BOOKING_ARRIVAL_TIME_UTC'] = pd.to_datetime(df['BOOKING_ARRIVAL_TIME_UTC'])\n",
    "df['BOOKING_DEPARTURE_TIME_UTC'] = pd.to_datetime(df['BOOKING_DEPARTURE_TIME_UTC'])\n",
    "df['flight_len'] = df['BOOKING_ARRIVAL_TIME_UTC'] - df['BOOKING_DEPARTURE_TIME_UTC']\n",
    "df['flight_len'] = df['flight_len'].apply(lambda x: x.seconds / 3600)"
   ]
  },
  {
   "cell_type": "code",
   "execution_count": null,
   "metadata": {},
   "outputs": [],
   "source": [
    "bkg_drop_cols = ['UPGRADED_FLAG', 'UPGRADE_TYPE', 'UPGRADE_SALES_DATE']\n",
    "bkg = pd.read_csv(data_path / 'BKG_train.csv', sep=';').drop(columns=bkg_drop_cols)"
   ]
  },
  {
   "cell_type": "code",
   "execution_count": null,
   "metadata": {},
   "outputs": [],
   "source": [
    "df = fcp.merge(pd.read_csv(data_path / 'TKT_train.csv', sep=';'), on='TICKET_NUMBER', how='left')\n",
    "df.shape"
   ]
  },
  {
   "cell_type": "code",
   "execution_count": null,
   "metadata": {},
   "outputs": [],
   "source": [
    "df = df.merge(pd.read_csv(data_path / 'BKG_train.csv', sep=';').drop(columns=bkg_drop_cols), on='BOOKING_ID', how='left')\n",
    "df.shape"
   ]
  },
  {
   "cell_type": "code",
   "execution_count": null,
   "metadata": {},
   "outputs": [],
   "source": [
    "# df = df.merge(emd, how='left', left_on='TICKET_NUMBER', right_on='REFERENCE_TICKET_NUMBER')\n",
    "# df.shape"
   ]
  },
  {
   "cell_type": "code",
   "execution_count": null,
   "metadata": {},
   "outputs": [],
   "source": [
    "df.shape"
   ]
  },
  {
   "cell_type": "code",
   "execution_count": null,
   "metadata": {
    "scrolled": true
   },
   "outputs": [],
   "source": [
    "df.loc[:, [col for col in df.columns if 'DATE' in col]]"
   ]
  },
  {
   "cell_type": "code",
   "execution_count": null,
   "metadata": {},
   "outputs": [],
   "source": [
    "(df[df['if_additional_upgrade'] == 1]['ORIGIN_AIRPORT_CODE'].value_counts() / df['ORIGIN_AIRPORT_CODE'].value_counts()).sort_values(ascending=False).head(30)"
   ]
  },
  {
   "cell_type": "code",
   "execution_count": null,
   "metadata": {},
   "outputs": [],
   "source": [
    "# sus_air_type = (df[df['UPGRADED_FLAG'] == 'Y']['AIRCRAFT_TYPE'].value_counts() / df['AIRCRAFT_TYPE'].value_counts()).sort_values(ascending=False).head(5).index.tolist()"
   ]
  },
  {
   "cell_type": "code",
   "execution_count": null,
   "metadata": {},
   "outputs": [],
   "source": [
    "sus_air_type = ['763', '788', '789', '332', '787']"
   ]
  },
  {
   "cell_type": "code",
   "execution_count": null,
   "metadata": {},
   "outputs": [],
   "source": [
    "# sus_currency = (df[df['UPGRADED_FLAG'] == 1]['CURRENCY'].value_counts() / df['CURRENCY'].value_counts()).sort_values(ascending=False).head(6).index.tolist()"
   ]
  },
  {
   "cell_type": "code",
   "execution_count": null,
   "metadata": {},
   "outputs": [],
   "source": [
    "sus_currency = ['JPY', 'USD', 'CAD', 'SGD', 'VND', 'AED']"
   ]
  },
  {
   "cell_type": "code",
   "execution_count": null,
   "metadata": {},
   "outputs": [],
   "source": [
    "df"
   ]
  },
  {
   "cell_type": "code",
   "execution_count": null,
   "metadata": {
    "scrolled": false
   },
   "outputs": [],
   "source": [
    "df[[col for col in df.columns if col not in drop_cols]]"
   ]
  },
  {
   "cell_type": "markdown",
   "metadata": {},
   "source": [
    "# Co zmieniamy \n",
    "1. "
   ]
  },
  {
   "cell_type": "code",
   "execution_count": null,
   "metadata": {},
   "outputs": [],
   "source": [
    "drop_cols = ['TICKET_NUMBER', 'UPGRADE_SALES_DATE', 'ORIGIN_AIRPORT_CODE', 'DESTINATION_AIRPORT_CODE', 'SALES_DATE', 'FLIGHT_DATE_LOCAL', 'MARKETING_CARRIER', 'OPERATIONAL_CARRIER', \n",
    "'BOOKED_CLASS', 'AIRCRAFT_TYPE', 'FARE_BASIS', 'UPGRADE_TYPE', 'UPGRADE_SALES_DATE', 'BOOKING_ID', 'ORIGINAL_TICKET_NUMBER', 'SEGMENTS', 'FLIGHT_COUPONS', 'FORM_OF_PAYMENT', 'CURRENCY', 'TOTAL_PRICE', 'LOYAL_CUSTOMER_ID', \n",
    "'LOYAL_CUSTOMER_DATE_OF_BIRTH', 'LOYAL_CUSTOMER_REGISTERED_DATE', 'SALES_DATE', 'SALES_MARKET', 'SEGMENTS', 'INTINERARY', 'BOOKING_ORIGIN_AIRPORT', 'BOOKING_ORIGIN_COUNTRY_CODE', 'BOOKING_DEPARTURE_TIME_UTC', \n",
    "'BOOKING_DESTINATION_AIRPORT', 'BOOKING_DESTINATION_COUNTRY_CODE', 'BOOKING_ARRIVAL_TIME_UTC']\n",
    "oh_cols = ['FLIGHT_RANGE', 'BOOKED_CABIN', 'VAB', 'PAX_TYPE', 'SALES_CHANNEL', 'TRIP_TYPE', ]"
   ]
  },
  {
   "cell_type": "code",
   "execution_count": null,
   "metadata": {},
   "outputs": [],
   "source": [
    "df['FLIGHT_DATE_LOCAL'] = pd.to_datetime(df['FLIGHT_DATE_LOCAL'])\n",
    "df['SALES_DATE'] = pd.to_datetime(df['SALES_DATE'])\n",
    "df['sale_to_flight_time'] = df['FLIGHT_DATE_LOCAL'] - df['SALES_DATE']\n",
    "df['sale_to_flight_time'] = df['sale_to_flight_time'].apply(lambda x: x.days)"
   ]
  },
  {
   "cell_type": "code",
   "execution_count": null,
   "metadata": {},
   "outputs": [],
   "source": [
    "df['TIME_DEPARTURE_LOCAL_TIME'] = pd.to_datetime(df['TIME_DEPARTURE_LOCAL_TIME'])\n",
    "df['TIME_DEPARTURE_LOCAL_TIME'] = df['TIME_DEPARTURE_LOCAL_TIME'].apply(lambda x: x.hour)"
   ]
  },
  {
   "cell_type": "code",
   "execution_count": null,
   "metadata": {},
   "outputs": [],
   "source": [
    "df['if_additional_upgrade'] = np.where(np.isin(df['TICKET_NUMBER'], emd['REFERENCE_TICKET_NUMBER'].unique()), 1, 0)"
   ]
  },
  {
   "cell_type": "code",
   "execution_count": null,
   "metadata": {},
   "outputs": [],
   "source": [
    "df['same_carrier'] = np.where(df['MARKETING_CARRIER'] == df['OPERATIONAL_CARRIER'], 1, 0)"
   ]
  },
  {
   "cell_type": "code",
   "execution_count": null,
   "metadata": {},
   "outputs": [],
   "source": [
    "df['is_sus_aircraft'] = np.where(np.isin(df['AIRCRAFT_TYPE'], sus_air_type), 1, 0)"
   ]
  },
  {
   "cell_type": "code",
   "execution_count": null,
   "metadata": {},
   "outputs": [],
   "source": [
    "df['UPGRADED_FLAG'] = df['UPGRADED_FLAG'].map({'Y': 1, 'N': 0})"
   ]
  },
  {
   "cell_type": "code",
   "execution_count": null,
   "metadata": {},
   "outputs": [],
   "source": [
    "sus_payment = (df[df['UPGRADED_FLAG'] == 1]['FORM_OF_PAYMENT'].value_counts() / df['FORM_OF_PAYMENT'].value_counts()).sort_values(ascending=False).head(9).index.tolist()"
   ]
  },
  {
   "cell_type": "code",
   "execution_count": null,
   "metadata": {},
   "outputs": [],
   "source": [
    "df['is_sus_payment'] = np.where(np.isin(df['FORM_OF_PAYMENT'], sus_payment), 1, 0)"
   ]
  },
  {
   "cell_type": "code",
   "execution_count": null,
   "metadata": {},
   "outputs": [],
   "source": [
    "df['intinerary_len'] = df['INTINERARY'].apply(lambda x: len(x.split('-')))"
   ]
  },
  {
   "cell_type": "code",
   "execution_count": null,
   "metadata": {},
   "outputs": [],
   "source": [
    "df['PAX_GENDER'] = df['PAX_GENDER'].map({'M': 1, 'F': 0})"
   ]
  },
  {
   "cell_type": "code",
   "execution_count": null,
   "metadata": {},
   "outputs": [],
   "source": [
    "df['CORPORATE_CONTRACT_FLG'] = df['CORPORATE_CONTRACT_FLG'].map({'Y': 1, 'N': 0})\n",
    "df['LOYAL_CUSTOMER'] = df['LOYAL_CUSTOMER'].map({'Y': 1, 'N': 0})"
   ]
  },
  {
   "cell_type": "code",
   "execution_count": null,
   "metadata": {},
   "outputs": [],
   "source": [
    "df['BOOKING_LONG_HOUL_FLAG'] = df['BOOKING_LONG_HOUL_FLAG'].map({'Y': 1, 'N': 0})\n",
    "df['BOOKING_DOMESTIC_FLAG'] = df['BOOKING_DOMESTIC_FLAG'].map({'Y': 1, 'N': 0})"
   ]
  },
  {
   "cell_type": "code",
   "execution_count": null,
   "metadata": {},
   "outputs": [],
   "source": [
    "df[df['if_additional_upgrade'] == 1]"
   ]
  },
  {
   "cell_type": "code",
   "execution_count": null,
   "metadata": {},
   "outputs": [],
   "source": [
    "emd"
   ]
  },
  {
   "cell_type": "code",
   "execution_count": null,
   "metadata": {},
   "outputs": [],
   "source": [
    "siema"
   ]
  }
 ],
 "metadata": {
  "interpreter": {
   "hash": "916dbcbb3f70747c44a77c7bcd40155683ae19c65e1c03b4aa3499c5328201f1"
  },
  "kernelspec": {
   "display_name": "Python 3 (ipykernel)",
   "language": "python",
   "name": "python3"
  },
  "language_info": {
   "codemirror_mode": {
    "name": "ipython",
    "version": 3
   },
   "file_extension": ".py",
   "mimetype": "text/x-python",
   "name": "python",
   "nbconvert_exporter": "python",
   "pygments_lexer": "ipython3",
   "version": "3.9.6"
  }
 },
 "nbformat": 4,
 "nbformat_minor": 2
}
